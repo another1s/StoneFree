{
  "nbformat": 4,
  "nbformat_minor": 0,
  "metadata": {
    "colab": {
      "name": "Alpha.ipynb",
      "version": "0.3.2",
      "provenance": [],
      "collapsed_sections": [],
      "include_colab_link": true
    },
    "kernelspec": {
      "name": "python3",
      "display_name": "Python 3"
    }
  },
  "cells": [
    {
      "cell_type": "markdown",
      "metadata": {
        "id": "view-in-github",
        "colab_type": "text"
      },
      "source": [
        "<a href=\"https://colab.research.google.com/github/another1s/StoneFree/blob/master/Alpha.ipynb\" target=\"_parent\"><img src=\"https://colab.research.google.com/assets/colab-badge.svg\" alt=\"Open In Colab\"/></a>"
      ]
    },
    {
      "cell_type": "code",
      "metadata": {
        "id": "GNWe5oXAKAP_",
        "colab_type": "code",
        "colab": {
          "base_uri": "https://localhost:8080/",
          "height": 123
        },
        "outputId": "fe81f48b-ed5a-4182-cd56-1b87341d21b3"
      },
      "source": [
        "!git clone https://github.com/another1s/StoneFree.git"
      ],
      "execution_count": 1,
      "outputs": [
        {
          "output_type": "stream",
          "text": [
            "Cloning into 'StoneFree'...\n",
            "remote: Enumerating objects: 73, done.\u001b[K\n",
            "remote: Counting objects:   1% (1/73)   \u001b[K\rremote: Counting objects:   2% (2/73)   \u001b[K\rremote: Counting objects:   4% (3/73)   \u001b[K\rremote: Counting objects:   5% (4/73)   \u001b[K\rremote: Counting objects:   6% (5/73)   \u001b[K\rremote: Counting objects:   8% (6/73)   \u001b[K\rremote: Counting objects:   9% (7/73)   \u001b[K\rremote: Counting objects:  10% (8/73)   \u001b[K\rremote: Counting objects:  12% (9/73)   \u001b[K\rremote: Counting objects:  13% (10/73)   \u001b[K\rremote: Counting objects:  15% (11/73)   \u001b[K\rremote: Counting objects:  16% (12/73)   \u001b[K\rremote: Counting objects:  17% (13/73)   \u001b[K\rremote: Counting objects:  19% (14/73)   \u001b[K\rremote: Counting objects:  20% (15/73)   \u001b[K\rremote: Counting objects:  21% (16/73)   \u001b[K\rremote: Counting objects:  23% (17/73)   \u001b[K\rremote: Counting objects:  24% (18/73)   \u001b[K\rremote: Counting objects:  26% (19/73)   \u001b[K\rremote: Counting objects:  27% (20/73)   \u001b[K\rremote: Counting objects:  28% (21/73)   \u001b[K\rremote: Counting objects:  30% (22/73)   \u001b[K\rremote: Counting objects:  31% (23/73)   \u001b[K\rremote: Counting objects:  32% (24/73)   \u001b[K\rremote: Counting objects:  34% (25/73)   \u001b[K\rremote: Counting objects:  35% (26/73)   \u001b[K\rremote: Counting objects:  36% (27/73)   \u001b[K\rremote: Counting objects:  38% (28/73)   \u001b[K\rremote: Counting objects:  39% (29/73)   \u001b[K\rremote: Counting objects:  41% (30/73)   \u001b[K\rremote: Counting objects:  42% (31/73)   \u001b[K\rremote: Counting objects:  43% (32/73)   \u001b[K\rremote: Counting objects:  45% (33/73)   \u001b[K\rremote: Counting objects:  46% (34/73)   \u001b[K\rremote: Counting objects:  47% (35/73)   \u001b[K\rremote: Counting objects:  49% (36/73)   \u001b[K\rremote: Counting objects:  50% (37/73)   \u001b[K\rremote: Counting objects:  52% (38/73)   \u001b[K\rremote: Counting objects:  53% (39/73)   \u001b[K\rremote: Counting objects:  54% (40/73)   \u001b[K\rremote: Counting objects:  56% (41/73)   \u001b[K\rremote: Counting objects:  57% (42/73)   \u001b[K\rremote: Counting objects:  58% (43/73)   \u001b[K\rremote: Counting objects:  60% (44/73)   \u001b[K\rremote: Counting objects:  61% (45/73)   \u001b[K\rremote: Counting objects:  63% (46/73)   \u001b[K\rremote: Counting objects:  64% (47/73)   \u001b[K\rremote: Counting objects:  65% (48/73)   \u001b[K\rremote: Counting objects:  67% (49/73)   \u001b[K\rremote: Counting objects:  68% (50/73)   \u001b[K\rremote: Counting objects:  69% (51/73)   \u001b[K\rremote: Counting objects:  71% (52/73)   \u001b[K\rremote: Counting objects:  72% (53/73)   \u001b[K\rremote: Counting objects:  73% (54/73)   \u001b[K\rremote: Counting objects:  75% (55/73)   \u001b[K\rremote: Counting objects:  76% (56/73)   \u001b[K\rremote: Counting objects:  78% (57/73)   \u001b[K\rremote: Counting objects:  79% (58/73)   \u001b[K\rremote: Counting objects:  80% (59/73)   \u001b[K\rremote: Counting objects:  82% (60/73)   \u001b[K\rremote: Counting objects:  83% (61/73)   \u001b[K\rremote: Counting objects:  84% (62/73)   \u001b[K\rremote: Counting objects:  86% (63/73)   \u001b[K\rremote: Counting objects:  87% (64/73)   \u001b[K\rremote: Counting objects:  89% (65/73)   \u001b[K\rremote: Counting objects:  90% (66/73)   \u001b[K\rremote: Counting objects:  91% (67/73)   \u001b[K\rremote: Counting objects:  93% (68/73)   \u001b[K\rremote: Counting objects:  94% (69/73)   \u001b[K\rremote: Counting objects:  95% (70/73)   \u001b[K\rremote: Counting objects:  97% (71/73)   \u001b[K\rremote: Counting objects:  98% (72/73)   \u001b[K\rremote: Counting objects: 100% (73/73)   \u001b[K\rremote: Counting objects: 100% (73/73), done.\u001b[K\n",
            "remote: Compressing objects: 100% (52/52), done.\u001b[K\n",
            "remote: Total 73 (delta 25), reused 61 (delta 16), pack-reused 0\u001b[K\n",
            "Unpacking objects: 100% (73/73), done.\n"
          ],
          "name": "stdout"
        }
      ]
    },
    {
      "cell_type": "code",
      "metadata": {
        "id": "2o-LX07vA7Nc",
        "colab_type": "code",
        "outputId": "f0d01063-1c7d-43ce-fa22-a6f87cec839c",
        "colab": {
          "base_uri": "https://localhost:8080/",
          "height": 35
        }
      },
      "source": [
        "!ls"
      ],
      "execution_count": 3,
      "outputs": [
        {
          "output_type": "stream",
          "text": [
            "sample_data  StoneFree\n"
          ],
          "name": "stdout"
        }
      ]
    },
    {
      "cell_type": "code",
      "metadata": {
        "id": "E96Mqm9nBaW1",
        "colab_type": "code",
        "outputId": "94c0713e-7c92-4548-d6b8-a4604f6602c2",
        "colab": {
          "base_uri": "https://localhost:8080/",
          "height": 52
        }
      },
      "source": [
        "%cd byzantine/HIEROPHANT"
      ],
      "execution_count": 3,
      "outputs": [
        {
          "output_type": "stream",
          "text": [
            "[Errno 2] No such file or directory: 'byzantine/HIEROPHANT'\n",
            "/content\n"
          ],
          "name": "stdout"
        }
      ]
    },
    {
      "cell_type": "code",
      "metadata": {
        "id": "2MGHB4xPFaOs",
        "colab_type": "code",
        "colab": {}
      },
      "source": [
        "!pip install gensim --upgrade"
      ],
      "execution_count": 0,
      "outputs": []
    },
    {
      "cell_type": "code",
      "metadata": {
        "id": "4Z9-o6aGFq6-",
        "colab_type": "code",
        "outputId": "a2cffb3a-7a33-49ee-ab87-91ed00d57b41",
        "colab": {
          "base_uri": "https://localhost:8080/",
          "height": 35
        }
      },
      "source": [
        "%cd /content/StoneFree/"
      ],
      "execution_count": 4,
      "outputs": [
        {
          "output_type": "stream",
          "text": [
            "/content/StoneFree\n"
          ],
          "name": "stdout"
        }
      ]
    },
    {
      "cell_type": "code",
      "metadata": {
        "id": "Gl3lJ0o2CGKh",
        "colab_type": "code",
        "colab": {}
      },
      "source": [
        "from byzantine.HIEROPHANT.Ner import BilstmNer\n",
        "from byzantine.helperfunction.embedding import NotoriousBig\n",
        "from byzantine.helperfunction.data_split import BatchGenerator\n",
        "from gensim.models import fasttext\n",
        "from gensim.models.wrappers import FastText\n",
        "from gensim.test.utils import datapath\n",
        "import warnings\n",
        "\n",
        "print('hell no')"
      ],
      "execution_count": 0,
      "outputs": []
    },
    {
      "cell_type": "code",
      "metadata": {
        "id": "QXEWlHWUKrcJ",
        "colab_type": "code",
        "colab": {
          "base_uri": "https://localhost:8080/",
          "height": 72
        },
        "outputId": "82a50863-cacc-426d-f749-91d347f020a5"
      },
      "source": [
        "cap_path = datapath(\"crime-and-punishment.bin\")\n",
        "fb_model = fasttext.load_facebook_model(cap_path)"
      ],
      "execution_count": 6,
      "outputs": [
        {
          "output_type": "stream",
          "text": [
            "WARNING: Logging before flag parsing goes to stderr.\n",
            "W0807 08:30:28.924049 139856808028032 base_any2vec.py:723] consider setting layer size to a multiple of 4 for greater performance\n"
          ],
          "name": "stderr"
        }
      ]
    },
    {
      "cell_type": "code",
      "metadata": {
        "id": "Nibs4JtmCOhK",
        "colab_type": "code",
        "outputId": "fa2d2044-5c96-4503-b228-5d021647fc78",
        "colab": {
          "base_uri": "https://localhost:8080/",
          "height": 423
        }
      },
      "source": [
        "if __name__ == '__main__':\n",
        "  print('hell no')\n",
        "  warnings.filterwarnings(\"ignore\")\n",
        "  config = dict()\n",
        "  config['switch'] = 'FastText'\n",
        "  config['addr'] = '../models/embedding/crawl-300d-2M-subword.bin'\n",
        "  config['train_addr'] = '../data/input_data/'\n",
        "  metadata = NotoriousBig(embedding_switch=config['switch'], embedding_addr=config['addr'],\n",
        "                          training_data_address=config['train_addr'])\n",
        "  data_train = BatchGenerator(X=metadata.data, y=metadata.labels, shuffle=True)\n",
        "\n",
        "  splash = {\n",
        "        'learning_rate': 0.001,\n",
        "        'batch_size': 10,\n",
        "        'embedding_dimension': 300,\n",
        "        'embedding_size': 2000000,\n",
        "        'sentence_length': 128,\n",
        "        'pretrained_model': '',\n",
        "        'tag_size': 4\n",
        "   }\n",
        "\n",
        "  Bilstm_Crf = BilstmNer(config=splash, embedding_pretrained=metadata.word_embedding)\n",
        "  print('done')"
      ],
      "execution_count": 7,
      "outputs": [
        {
          "output_type": "stream",
          "text": [
            "hell no\n"
          ],
          "name": "stdout"
        },
        {
          "output_type": "error",
          "ename": "FileNotFoundError",
          "evalue": "ignored",
          "traceback": [
            "\u001b[0;31m---------------------------------------------------------------------------\u001b[0m",
            "\u001b[0;31mFileNotFoundError\u001b[0m                         Traceback (most recent call last)",
            "\u001b[0;32m<ipython-input-7-ed98fafe7a4f>\u001b[0m in \u001b[0;36m<module>\u001b[0;34m()\u001b[0m\n\u001b[1;32m      7\u001b[0m   \u001b[0mconfig\u001b[0m\u001b[0;34m[\u001b[0m\u001b[0;34m'train_addr'\u001b[0m\u001b[0;34m]\u001b[0m \u001b[0;34m=\u001b[0m \u001b[0;34m'../data/input_data/'\u001b[0m\u001b[0;34m\u001b[0m\u001b[0;34m\u001b[0m\u001b[0m\n\u001b[1;32m      8\u001b[0m   metadata = NotoriousBig(embedding_switch=config['switch'], embedding_addr=config['addr'],\n\u001b[0;32m----> 9\u001b[0;31m                           training_data_address=config['train_addr'])\n\u001b[0m\u001b[1;32m     10\u001b[0m   \u001b[0mdata_train\u001b[0m \u001b[0;34m=\u001b[0m \u001b[0mBatchGenerator\u001b[0m\u001b[0;34m(\u001b[0m\u001b[0mX\u001b[0m\u001b[0;34m=\u001b[0m\u001b[0mmetadata\u001b[0m\u001b[0;34m.\u001b[0m\u001b[0mdata\u001b[0m\u001b[0;34m,\u001b[0m \u001b[0my\u001b[0m\u001b[0;34m=\u001b[0m\u001b[0mmetadata\u001b[0m\u001b[0;34m.\u001b[0m\u001b[0mlabels\u001b[0m\u001b[0;34m,\u001b[0m \u001b[0mshuffle\u001b[0m\u001b[0;34m=\u001b[0m\u001b[0;32mTrue\u001b[0m\u001b[0;34m)\u001b[0m\u001b[0;34m\u001b[0m\u001b[0;34m\u001b[0m\u001b[0m\n\u001b[1;32m     11\u001b[0m \u001b[0;34m\u001b[0m\u001b[0m\n",
            "\u001b[0;32m/content/StoneFree/byzantine/helperfunction/embedding.py\u001b[0m in \u001b[0;36m__init__\u001b[0;34m(self, embedding_switch, embedding_addr, training_data_address)\u001b[0m\n\u001b[1;32m      6\u001b[0m \u001b[0;32mclass\u001b[0m \u001b[0mNotoriousBig\u001b[0m\u001b[0;34m:\u001b[0m\u001b[0;34m\u001b[0m\u001b[0;34m\u001b[0m\u001b[0m\n\u001b[1;32m      7\u001b[0m     \u001b[0;32mdef\u001b[0m \u001b[0m__init__\u001b[0m\u001b[0;34m(\u001b[0m\u001b[0mself\u001b[0m\u001b[0;34m,\u001b[0m \u001b[0membedding_switch\u001b[0m\u001b[0;34m:\u001b[0m \u001b[0;34m'str'\u001b[0m\u001b[0;34m,\u001b[0m \u001b[0membedding_addr\u001b[0m\u001b[0;34m:\u001b[0m \u001b[0;34m'str'\u001b[0m\u001b[0;34m,\u001b[0m \u001b[0mtraining_data_address\u001b[0m\u001b[0;34m:\u001b[0m \u001b[0;34m'str'\u001b[0m\u001b[0;34m)\u001b[0m\u001b[0;34m:\u001b[0m\u001b[0;34m\u001b[0m\u001b[0;34m\u001b[0m\u001b[0m\n\u001b[0;32m----> 8\u001b[0;31m         \u001b[0mself\u001b[0m\u001b[0;34m.\u001b[0m\u001b[0mword_embedding\u001b[0m \u001b[0;34m=\u001b[0m \u001b[0mself\u001b[0m\u001b[0;34m.\u001b[0m\u001b[0mread_embedding\u001b[0m\u001b[0;34m(\u001b[0m\u001b[0membedding_switch\u001b[0m\u001b[0;34m,\u001b[0m \u001b[0membedding_addr\u001b[0m\u001b[0;34m)\u001b[0m\u001b[0;34m\u001b[0m\u001b[0;34m\u001b[0m\u001b[0m\n\u001b[0m\u001b[1;32m      9\u001b[0m         \u001b[0mself\u001b[0m\u001b[0;34m.\u001b[0m\u001b[0mdata\u001b[0m\u001b[0;34m,\u001b[0m \u001b[0mself\u001b[0m\u001b[0;34m.\u001b[0m\u001b[0mlabels\u001b[0m\u001b[0;34m,\u001b[0m \u001b[0mself\u001b[0m\u001b[0;34m.\u001b[0m\u001b[0mpos_tag\u001b[0m \u001b[0;34m=\u001b[0m \u001b[0mself\u001b[0m\u001b[0;34m.\u001b[0m\u001b[0mread_data\u001b[0m\u001b[0;34m(\u001b[0m\u001b[0mtraining_data_address\u001b[0m\u001b[0;34m)\u001b[0m\u001b[0;34m\u001b[0m\u001b[0;34m\u001b[0m\u001b[0m\n\u001b[1;32m     10\u001b[0m \u001b[0;34m\u001b[0m\u001b[0m\n",
            "\u001b[0;32m/content/StoneFree/byzantine/helperfunction/embedding.py\u001b[0m in \u001b[0;36mread_embedding\u001b[0;34m(switch, data_addr)\u001b[0m\n\u001b[1;32m     16\u001b[0m     \u001b[0;32mdef\u001b[0m \u001b[0mread_embedding\u001b[0m\u001b[0;34m(\u001b[0m\u001b[0mswitch\u001b[0m\u001b[0;34m,\u001b[0m \u001b[0mdata_addr\u001b[0m\u001b[0;34m)\u001b[0m\u001b[0;34m:\u001b[0m\u001b[0;34m\u001b[0m\u001b[0;34m\u001b[0m\u001b[0m\n\u001b[1;32m     17\u001b[0m         \u001b[0;32mif\u001b[0m \u001b[0mswitch\u001b[0m \u001b[0;34m==\u001b[0m \u001b[0;34m'FastText'\u001b[0m\u001b[0;34m:\u001b[0m\u001b[0;34m\u001b[0m\u001b[0;34m\u001b[0m\u001b[0m\n\u001b[0;32m---> 18\u001b[0;31m             \u001b[0mfb_model\u001b[0m \u001b[0;34m=\u001b[0m \u001b[0mfasttext\u001b[0m\u001b[0;34m.\u001b[0m\u001b[0mload_facebook_model\u001b[0m\u001b[0;34m(\u001b[0m\u001b[0mpath\u001b[0m\u001b[0;34m=\u001b[0m\u001b[0mdata_addr\u001b[0m\u001b[0;34m)\u001b[0m\u001b[0;34m\u001b[0m\u001b[0;34m\u001b[0m\u001b[0m\n\u001b[0m\u001b[1;32m     19\u001b[0m             \u001b[0;32mreturn\u001b[0m \u001b[0mfb_model\u001b[0m\u001b[0;34m\u001b[0m\u001b[0;34m\u001b[0m\u001b[0m\n\u001b[1;32m     20\u001b[0m \u001b[0;34m\u001b[0m\u001b[0m\n",
            "\u001b[0;32m/usr/local/lib/python3.6/dist-packages/gensim/models/fasttext.py\u001b[0m in \u001b[0;36mload_facebook_model\u001b[0;34m(path, encoding)\u001b[0m\n\u001b[1;32m   1248\u001b[0m \u001b[0;34m\u001b[0m\u001b[0m\n\u001b[1;32m   1249\u001b[0m     \"\"\"\n\u001b[0;32m-> 1250\u001b[0;31m     \u001b[0;32mreturn\u001b[0m \u001b[0m_load_fasttext_format\u001b[0m\u001b[0;34m(\u001b[0m\u001b[0mpath\u001b[0m\u001b[0;34m,\u001b[0m \u001b[0mencoding\u001b[0m\u001b[0;34m=\u001b[0m\u001b[0mencoding\u001b[0m\u001b[0;34m,\u001b[0m \u001b[0mfull_model\u001b[0m\u001b[0;34m=\u001b[0m\u001b[0;32mTrue\u001b[0m\u001b[0;34m)\u001b[0m\u001b[0;34m\u001b[0m\u001b[0;34m\u001b[0m\u001b[0m\n\u001b[0m\u001b[1;32m   1251\u001b[0m \u001b[0;34m\u001b[0m\u001b[0m\n\u001b[1;32m   1252\u001b[0m \u001b[0;34m\u001b[0m\u001b[0m\n",
            "\u001b[0;32m/usr/local/lib/python3.6/dist-packages/gensim/models/fasttext.py\u001b[0m in \u001b[0;36m_load_fasttext_format\u001b[0;34m(model_file, encoding, full_model)\u001b[0m\n\u001b[1;32m   1327\u001b[0m \u001b[0;34m\u001b[0m\u001b[0m\n\u001b[1;32m   1328\u001b[0m     \"\"\"\n\u001b[0;32m-> 1329\u001b[0;31m     \u001b[0;32mwith\u001b[0m \u001b[0mutils\u001b[0m\u001b[0;34m.\u001b[0m\u001b[0mopen\u001b[0m\u001b[0;34m(\u001b[0m\u001b[0mmodel_file\u001b[0m\u001b[0;34m,\u001b[0m \u001b[0;34m'rb'\u001b[0m\u001b[0;34m)\u001b[0m \u001b[0;32mas\u001b[0m \u001b[0mfin\u001b[0m\u001b[0;34m:\u001b[0m\u001b[0;34m\u001b[0m\u001b[0;34m\u001b[0m\u001b[0m\n\u001b[0m\u001b[1;32m   1330\u001b[0m         \u001b[0mm\u001b[0m \u001b[0;34m=\u001b[0m \u001b[0mgensim\u001b[0m\u001b[0;34m.\u001b[0m\u001b[0mmodels\u001b[0m\u001b[0;34m.\u001b[0m\u001b[0m_fasttext_bin\u001b[0m\u001b[0;34m.\u001b[0m\u001b[0mload\u001b[0m\u001b[0;34m(\u001b[0m\u001b[0mfin\u001b[0m\u001b[0;34m,\u001b[0m \u001b[0mencoding\u001b[0m\u001b[0;34m=\u001b[0m\u001b[0mencoding\u001b[0m\u001b[0;34m,\u001b[0m \u001b[0mfull_model\u001b[0m\u001b[0;34m=\u001b[0m\u001b[0mfull_model\u001b[0m\u001b[0;34m)\u001b[0m\u001b[0;34m\u001b[0m\u001b[0;34m\u001b[0m\u001b[0m\n\u001b[1;32m   1331\u001b[0m \u001b[0;34m\u001b[0m\u001b[0m\n",
            "\u001b[0;32m/usr/local/lib/python3.6/dist-packages/smart_open/smart_open_lib.py\u001b[0m in \u001b[0;36mopen\u001b[0;34m(uri, mode, buffering, encoding, errors, newline, closefd, opener, ignore_ext, transport_params)\u001b[0m\n\u001b[1;32m    305\u001b[0m         \u001b[0mbuffering\u001b[0m\u001b[0;34m=\u001b[0m\u001b[0mbuffering\u001b[0m\u001b[0;34m,\u001b[0m\u001b[0;34m\u001b[0m\u001b[0;34m\u001b[0m\u001b[0m\n\u001b[1;32m    306\u001b[0m         \u001b[0mencoding\u001b[0m\u001b[0;34m=\u001b[0m\u001b[0mencoding\u001b[0m\u001b[0;34m,\u001b[0m\u001b[0;34m\u001b[0m\u001b[0;34m\u001b[0m\u001b[0m\n\u001b[0;32m--> 307\u001b[0;31m         \u001b[0merrors\u001b[0m\u001b[0;34m=\u001b[0m\u001b[0merrors\u001b[0m\u001b[0;34m,\u001b[0m\u001b[0;34m\u001b[0m\u001b[0;34m\u001b[0m\u001b[0m\n\u001b[0m\u001b[1;32m    308\u001b[0m     )\n\u001b[1;32m    309\u001b[0m     \u001b[0;32mif\u001b[0m \u001b[0mfobj\u001b[0m \u001b[0;32mis\u001b[0m \u001b[0;32mnot\u001b[0m \u001b[0;32mNone\u001b[0m\u001b[0;34m:\u001b[0m\u001b[0;34m\u001b[0m\u001b[0;34m\u001b[0m\u001b[0m\n",
            "\u001b[0;32m/usr/local/lib/python3.6/dist-packages/smart_open/smart_open_lib.py\u001b[0m in \u001b[0;36m_shortcut_open\u001b[0;34m(uri, mode, ignore_ext, buffering, encoding, errors)\u001b[0m\n\u001b[1;32m    510\u001b[0m     \u001b[0;31m#\u001b[0m\u001b[0;34m\u001b[0m\u001b[0;34m\u001b[0m\u001b[0;34m\u001b[0m\u001b[0m\n\u001b[1;32m    511\u001b[0m     \u001b[0;32mif\u001b[0m \u001b[0msix\u001b[0m\u001b[0;34m.\u001b[0m\u001b[0mPY3\u001b[0m\u001b[0;34m:\u001b[0m\u001b[0;34m\u001b[0m\u001b[0;34m\u001b[0m\u001b[0m\n\u001b[0;32m--> 512\u001b[0;31m         \u001b[0;32mreturn\u001b[0m \u001b[0m_builtin_open\u001b[0m\u001b[0;34m(\u001b[0m\u001b[0mparsed_uri\u001b[0m\u001b[0;34m.\u001b[0m\u001b[0muri_path\u001b[0m\u001b[0;34m,\u001b[0m \u001b[0mmode\u001b[0m\u001b[0;34m,\u001b[0m \u001b[0mbuffering\u001b[0m\u001b[0;34m=\u001b[0m\u001b[0mbuffering\u001b[0m\u001b[0;34m,\u001b[0m \u001b[0;34m**\u001b[0m\u001b[0mopen_kwargs\u001b[0m\u001b[0;34m)\u001b[0m\u001b[0;34m\u001b[0m\u001b[0;34m\u001b[0m\u001b[0m\n\u001b[0m\u001b[1;32m    513\u001b[0m     \u001b[0;32melif\u001b[0m \u001b[0;32mnot\u001b[0m \u001b[0mopen_kwargs\u001b[0m\u001b[0;34m:\u001b[0m\u001b[0;34m\u001b[0m\u001b[0;34m\u001b[0m\u001b[0m\n\u001b[1;32m    514\u001b[0m         \u001b[0;32mreturn\u001b[0m \u001b[0m_builtin_open\u001b[0m\u001b[0;34m(\u001b[0m\u001b[0mparsed_uri\u001b[0m\u001b[0;34m.\u001b[0m\u001b[0muri_path\u001b[0m\u001b[0;34m,\u001b[0m \u001b[0mmode\u001b[0m\u001b[0;34m,\u001b[0m \u001b[0mbuffering\u001b[0m\u001b[0;34m=\u001b[0m\u001b[0mbuffering\u001b[0m\u001b[0;34m)\u001b[0m\u001b[0;34m\u001b[0m\u001b[0;34m\u001b[0m\u001b[0m\n",
            "\u001b[0;31mFileNotFoundError\u001b[0m: [Errno 2] No such file or directory: '../models/embedding/crawl-300d-2M-subword.bin'"
          ]
        }
      ]
    }
  ]
}